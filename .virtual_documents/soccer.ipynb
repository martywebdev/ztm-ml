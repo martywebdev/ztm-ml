import pandas as pd


df = pd.read_csv('FIFA22_official_data.csv')
df.shape


df.describe()


df.values





df[df['Age'] > 40].head()





df1 = pd.DataFrame(df, columns=['Name', 'Wage', 'Value'])
def to_euros(x):
    x = x.replace('€', '').replace(',', '').strip()
    if 'M' in x:
        return float(x.replace('M', '')) * 1_000_000
    elif 'K' in x:
        return float(x.replace('K', '')) * 1_000
    elif x == '0' or x == '':
        return 0.0
    else:
        return float(x)

df1['Wage'] = df['Wage'].apply(to_euros)
df1['Value'] = df['Value'].apply(to_euros)
df1['Difference'] = df1['Value'] - df1['Wage']
df1





df1.sort_values(by='Difference', ascending=False)


import seaborn as sns
sns.set()

graph = sns.scatterplot(x='Wage', y='Value', data=df1)
graph


from bokeh.plotting import figure, show
from bokeh.models import HoverTool

TOOLTIPS = HoverTool(tooltips=[
    ("index", "$index"),
    ("(Wage,Value)", "(@Wage, @Value)"),
    ("Name", "@Name")]
)


p = figure(title="Football 2019", x_axis_label='Wage', y_axis_label='Value', width=700, height=700, tools=[TOOLTIPS])
p.scatter('Wage', 'Value', size=10, source=df1)
show(p)




